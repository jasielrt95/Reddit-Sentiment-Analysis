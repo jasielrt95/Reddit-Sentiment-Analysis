{
  "nbformat": 4,
  "nbformat_minor": 0,
  "metadata": {
    "colab": {
      "name": "Reddit Project.ipynb",
      "provenance": [],
      "collapsed_sections": []
    },
    "kernelspec": {
      "name": "python3",
      "display_name": "Python 3"
    },
    "language_info": {
      "name": "python"
    }
  },
  "cells": [
    {
      "cell_type": "markdown",
      "source": [
        "#Project Reddit Sentimental Analysis#\n",
        "**Team:**\n",
        "1. Michael Terrefortes\n",
        "2. Jasiel Rivera\n",
        "3. Eliam Ruiz\n",
        "4. Jose Portela\n",
        "\n",
        "**Purporse:** Undestand the emotion of post in different subreddits. We analyzed political subreddits. On the webpage you could analyze other subreddits and see how positive or negative is it. We wanted to see the emotion of the posts of this subreddits. We believe its important because this emotions can impact and affect our mental health. Also, to make sure to not be in a subreddit that could be very biased to someone. \n",
        "\n",
        "**Data Collection:** The data analyzed here was recolected from the program that we made available on github. This program was also made into a webpage so you can go and search different subreddits and see how positive or negative it is. "
      ],
      "metadata": {
        "id": "KvgaXE0QQ1Yd"
      }
    },
    {
      "cell_type": "markdown",
      "source": [
        "This function loads the data from each csv file."
      ],
      "metadata": {
        "id": "evPZvAs2RUii"
      }
    },
    {
      "cell_type": "code",
      "source": [
        "import pandas as pd   \n",
        "# Loads the data of each csv file and selects a column\n",
        "def loadData(csvFile, column):\n",
        "  # Read the file\n",
        "  df = pd.read_csv(csvFile)\n",
        "  # Select column\n",
        "  data = df[column] \n",
        "  # Return data\n",
        "  return data"
      ],
      "metadata": {
        "id": "mOvtbI10AYDe"
      },
      "execution_count": 1,
      "outputs": []
    },
    {
      "cell_type": "markdown",
      "source": [
        "Function checks if the post was negative, positive or neutral based on the sentimental analysis score. "
      ],
      "metadata": {
        "id": "kglY7HbURbnM"
      }
    },
    {
      "cell_type": "code",
      "source": [
        " # Analyses the sentiment of each post using the compound\n",
        " def sentimentAnalysis(sentiment):\n",
        "              # If the compound is greater than zero then is positive\n",
        "              if sentiment > 0:\n",
        "                 return \"positive\"\n",
        "              # If the compound is less than zero then is negative\n",
        "              elif sentiment < 0:\n",
        "                 return \"negative\"\n",
        "              # Else the post is neutral\n",
        "              else:\n",
        "                 return \"neutral\""
      ],
      "metadata": {
        "id": "UnlmY_SKWmnE"
      },
      "execution_count": 2,
      "outputs": []
    },
    {
      "cell_type": "markdown",
      "source": [
        "This function counts to see how many were negative, positive or positive"
      ],
      "metadata": {
        "id": "FvePyYSQRmQ0"
      }
    },
    {
      "cell_type": "code",
      "source": [
        "# Counts the values to see how many are positive, negative or neutral\n",
        "def countValues(post):    \n",
        "        positives = 0\n",
        "        negatives = 0\n",
        "        neutrals = 0\n",
        "\n",
        "        # Loop to go through list\n",
        "        for i in range(len(post)):\n",
        "\n",
        "            # If its positive sum one\n",
        "            if post[i] == 'positive':\n",
        "                positives += 1\n",
        "\n",
        "            # If its negative sum one\n",
        "            elif post[i] == 'negative':\n",
        "                negatives += 1\n",
        "\n",
        "            # Else its neutral sum one\n",
        "            else:\n",
        "                neutrals += 1\n",
        "\n",
        "        # Create dictionary with positives, negatives and neutrals\n",
        "        dictionary = { 'positive': positives, 'negative': negatives, 'neutral': neutrals }\n",
        "\n",
        "        return dictionary"
      ],
      "metadata": {
        "id": "vbCeS7L68i_A"
      },
      "execution_count": 3,
      "outputs": []
    },
    {
      "cell_type": "markdown",
      "source": [
        "Function creates a bar plot to see negatives, positives and neutrals."
      ],
      "metadata": {
        "id": "lcrxjqxZRuMe"
      }
    },
    {
      "cell_type": "code",
      "source": [
        "# Function to create barplot. It takes the data and a title\n",
        "def barplot(data, title):\n",
        "  # creating the bar plot\n",
        "\n",
        "  # Select the keys\n",
        "  sentiment = list(data.keys())\n",
        "  # Select the values\n",
        "  values = list(data.values())\n",
        "\n",
        "  # Plot bar\n",
        "  plt.bar(sentiment, values, color ='blue',\n",
        "          width = 0.4)\n",
        "  \n",
        "  # X label of barplot\n",
        "  plt.xlabel(\"Sentiments of posts\")\n",
        "  # Y label of barplot\n",
        "  plt.ylabel(\"Number of posts\")\n",
        "  # Add title to barplot\n",
        "  plt.title(title)\n",
        "  # Display barplot\n",
        "  plt.show()"
      ],
      "metadata": {
        "id": "VmYxaRss95yI"
      },
      "execution_count": 4,
      "outputs": []
    },
    {
      "cell_type": "markdown",
      "source": [
        "On this first csv load we used the Democrats subreddit. We extracted the \"compound\" column which based on the Sentimental Analysis its the general score of sentiment. If its greater then 0 then its positive, less than 0 negative and 0 is neutral. We also counted to see how many were positive, negative or neutral. "
      ],
      "metadata": {
        "id": "_k4_McldR7fp"
      }
    },
    {
      "cell_type": "code",
      "source": [
        "# Get data from dems subreddit with column compound\n",
        "demsCom = loadData(\"democrats.csv\", \"compound\")\n",
        "\n",
        "# Save the info of this column\n",
        "postsInfo = []\n",
        "\n",
        "# Loop to go through list\n",
        "for i in range(len(demsCom)):\n",
        "  # Analyze each column\n",
        "  postsInfo.append(sentimentAnalysis(demsCom[i]))\n",
        "\n",
        "# Count how many were pos, neg and neu\n",
        "dictDems = countValues(postsInfo)\n",
        "print(dictDems)"
      ],
      "metadata": {
        "colab": {
          "base_uri": "https://localhost:8080/"
        },
        "id": "nvQTtCGn7Tv0",
        "outputId": "88c4fe83-f2bb-4627-dd1e-4b8de525adf4"
      },
      "execution_count": 5,
      "outputs": [
        {
          "output_type": "stream",
          "name": "stdout",
          "text": [
            "{'positive': 141, 'negative': 155, 'neutral': 204}\n"
          ]
        }
      ]
    },
    {
      "cell_type": "markdown",
      "source": [
        "As seen above, 141 were positive, 155 negative and 204 neutral. "
      ],
      "metadata": {
        "id": "cpOokqARSUXm"
      }
    },
    {
      "cell_type": "markdown",
      "source": [
        "In this subreddit 28.2% of the posts were positive, 31% were negative and 40.8% were neutral. "
      ],
      "metadata": {
        "id": "-bgrHs5WM2d4"
      }
    },
    {
      "cell_type": "markdown",
      "source": [
        "This barplot shows this count to visualize the sentiments of the posts. "
      ],
      "metadata": {
        "id": "9-lTP1KdScCO"
      }
    },
    {
      "cell_type": "code",
      "source": [
        "import matplotlib.pyplot as plt\n",
        "barplot(dictDems, \"Sentimental Analysis of Posts in Democrats Subreddit\")"
      ],
      "metadata": {
        "colab": {
          "base_uri": "https://localhost:8080/",
          "height": 295
        },
        "id": "_AwoMwSA-bqL",
        "outputId": "13175fe9-354f-4c3b-d8b5-08c4bfdf95e5"
      },
      "execution_count": 6,
      "outputs": [
        {
          "output_type": "display_data",
          "data": {
            "image/png": "[encoded data removed]",
            "text/plain": [
              "<Figure size 432x288 with 1 Axes>"
            ]
          },
          "metadata": {
            "needs_background": "light"
          }
        }
      ]
    },
    {
      "cell_type": "markdown",
      "source": [
        "There were more neutral posts in this subreddit. "
      ],
      "metadata": {
        "id": "yL-l4S0CSjZ3"
      }
    },
    {
      "cell_type": "markdown",
      "source": [
        "Now we loaded the conservative csv file and counted the sentiment of each post"
      ],
      "metadata": {
        "id": "gO4yzQx0S05T"
      }
    },
    {
      "cell_type": "code",
      "source": [
        "# Get data from conservative subreddit with column compound\n",
        "conCom = loadData(\"conservative.csv\", \"compound\")\n",
        "\n",
        "# Save the info of this column\n",
        "postsInfo = []\n",
        "\n",
        "# Loop to go through list\n",
        "for i in range(len(conCom)):\n",
        "  # Analyze each column\n",
        "  postsInfo.append(sentimentAnalysis(conCom[i]))\n",
        "\n",
        "# Count how many were pos, neg and neu\n",
        "dictCon = countValues(postsInfo)\n",
        "print(dictCon)"
      ],
      "metadata": {
        "colab": {
          "base_uri": "https://localhost:8080/"
        },
        "id": "o_dWALA1AkBb",
        "outputId": "51b881af-8494-4091-b838-9ddc6915ccb8"
      },
      "execution_count": 7,
      "outputs": [
        {
          "output_type": "stream",
          "name": "stdout",
          "text": [
            "{'positive': 159, 'negative': 170, 'neutral': 171}\n"
          ]
        }
      ]
    },
    {
      "cell_type": "markdown",
      "source": [
        "Above the total of negative posts were 170, the positives 159 and the neutrals 171. "
      ],
      "metadata": {
        "id": "ZkurWwzpS6nB"
      }
    },
    {
      "cell_type": "markdown",
      "source": [
        "In this subreddit 31.8% of the posts were positive, 34% were negative and 34.2% were neutral. "
      ],
      "metadata": {
        "id": "zW3FaCaJM8Kd"
      }
    },
    {
      "cell_type": "markdown",
      "source": [
        "Below the graph showing this results. There were more neutrals posts in this subreddit. "
      ],
      "metadata": {
        "id": "54z6HQZqTXKY"
      }
    },
    {
      "cell_type": "code",
      "source": [
        "barplot(dictCon, \"Sentimental Analysis of Posts in Conservative Subreddit\")"
      ],
      "metadata": {
        "colab": {
          "base_uri": "https://localhost:8080/",
          "height": 295
        },
        "id": "ERvMClD7CyPR",
        "outputId": "89b5d316-cecb-47bc-8eac-f61d993f67c8"
      },
      "execution_count": 8,
      "outputs": [
        {
          "output_type": "display_data",
          "data": {
            "image/png": "[encoded data removed]",
            "text/plain": [
              "<Figure size 432x288 with 1 Axes>"
            ]
          },
          "metadata": {
            "needs_background": "light"
          }
        }
      ]
    },
    {
      "cell_type": "markdown",
      "source": [
        "Now the general politics subreddit was loaded to count each sentiment. "
      ],
      "metadata": {
        "id": "CMVjryzWTgs0"
      }
    },
    {
      "cell_type": "code",
      "source": [
        "# Get data from politics subreddit with column compound\n",
        "polCom = loadData(\"politics.csv\", \"compound\")\n",
        "\n",
        "# Save the info of this column\n",
        "postsInfo = []\n",
        "\n",
        "# Loop to go through list\n",
        "for i in range(len(polCom)):\n",
        "   # Analyze each column\n",
        "  postsInfo.append(sentimentAnalysis(polCom[i]))\n",
        "\n",
        "# Count how many were pos, neg and neu\n",
        "dictPol = countValues(postsInfo)\n",
        "print(dictPol)"
      ],
      "metadata": {
        "colab": {
          "base_uri": "https://localhost:8080/"
        },
        "id": "ZyXja1G7DHjK",
        "outputId": "1ef1381f-739e-4b03-8df8-205f222a55ce"
      },
      "execution_count": 9,
      "outputs": [
        {
          "output_type": "stream",
          "name": "stdout",
          "text": [
            "{'positive': 139, 'negative': 245, 'neutral': 116}\n"
          ]
        }
      ]
    },
    {
      "cell_type": "markdown",
      "source": [
        "On this subreddit we saw how 139 of the posts were positive, 245 negative and 116 neutral. "
      ],
      "metadata": {
        "id": "qUUigWH5UOwd"
      }
    },
    {
      "cell_type": "markdown",
      "source": [
        "In this subreddit 27.8% of the posts were positive, 49% were negative and 23.2% were neutral. "
      ],
      "metadata": {
        "id": "F5Kg3yq7Mse2"
      }
    },
    {
      "cell_type": "markdown",
      "source": [
        "Next the bar plot showing this results"
      ],
      "metadata": {
        "id": "_kM2fEffUYie"
      }
    },
    {
      "cell_type": "code",
      "source": [
        "barplot(dictPol, \"Sentimental Analysis of Posts in Politics Subreddit\")"
      ],
      "metadata": {
        "colab": {
          "base_uri": "https://localhost:8080/",
          "height": 295
        },
        "id": "12D9ieQiDTR8",
        "outputId": "ee8933ec-c6fb-4e87-aa02-2a1be96bbd1e"
      },
      "execution_count": 10,
      "outputs": [
        {
          "output_type": "display_data",
          "data": {
            "image/png": "[encoded data removed]",
            "text/plain": [
              "<Figure size 432x288 with 1 Axes>"
            ]
          },
          "metadata": {
            "needs_background": "light"
          }
        }
      ]
    },
    {
      "cell_type": "markdown",
      "source": [
        "Now we extracted the data from the libertarian subreddit. "
      ],
      "metadata": {
        "id": "5rcJYScQUcmy"
      }
    },
    {
      "cell_type": "code",
      "source": [
        "# Get data from libertarian subreddit with column compound\n",
        "libCom = loadData(\"libertarian.csv\", \"compound\")\n",
        "\n",
        "# Save the info of this column\n",
        "postsInfo = []\n",
        "\n",
        "# Loop to go through list\n",
        "for i in range(len(libCom)):\n",
        "   # Analyze each column\n",
        "  postsInfo.append(sentimentAnalysis(libCom[i]))\n",
        "\n",
        "# Count how many were pos, neg and neu\n",
        "dictLib = countValues(postsInfo)\n",
        "print(dictLib)"
      ],
      "metadata": {
        "colab": {
          "base_uri": "https://localhost:8080/"
        },
        "id": "4r3zcIaXDXNh",
        "outputId": "fbc8a8ae-14d6-4d21-d044-8632974273f7"
      },
      "execution_count": 11,
      "outputs": [
        {
          "output_type": "stream",
          "name": "stdout",
          "text": [
            "{'positive': 172, 'negative': 175, 'neutral': 153}\n"
          ]
        }
      ]
    },
    {
      "cell_type": "markdown",
      "source": [
        "On this subreddit we saw how 172 of the posts were positive, 175 negative and 153 neutral. "
      ],
      "metadata": {
        "id": "T76TG886Ujyh"
      }
    },
    {
      "cell_type": "markdown",
      "source": [
        "There were 35% negative posts while 34.4% were positive and 30.6% were neutral. "
      ],
      "metadata": {
        "id": "dr1YRP0YNFkc"
      }
    },
    {
      "cell_type": "markdown",
      "source": [
        "Next the bar plot showing this results"
      ],
      "metadata": {
        "id": "cFawGQEfUqU-"
      }
    },
    {
      "cell_type": "code",
      "source": [
        "barplot(dictLib, \"Sentimental Analysis of Posts in Libertarian Subreddit\")"
      ],
      "metadata": {
        "colab": {
          "base_uri": "https://localhost:8080/",
          "height": 295
        },
        "id": "bg8PaoZxDief",
        "outputId": "d060e3f4-9225-405c-d71e-a4c708950dce"
      },
      "execution_count": 12,
      "outputs": [
        {
          "output_type": "display_data",
          "data": {
            "image/png": "[encoded data removed]",
            "text/plain": [
              "<Figure size 432x288 with 1 Axes>"
            ]
          },
          "metadata": {
            "needs_background": "light"
          }
        }
      ]
    },
    {
      "cell_type": "markdown",
      "source": [
        "This nexto code graphs each emotion in the World News Subreddit"
      ],
      "metadata": {
        "id": "ZZ0TJLPHfWVD"
      }
    },
    {
      "cell_type": "code",
      "source": [
        "# Get data from libertarian subreddit with column compound\n",
        "WNCom = loadData(\"worldnews.csv\", \"compound\")\n",
        "\n",
        "# Save the info of this column\n",
        "postsInfo = []\n",
        "\n",
        "# Loop to go through list\n",
        "for i in range(len(WNCom)):\n",
        "   # Analyze each column\n",
        "  postsInfo.append(sentimentAnalysis(WNCom[i]))\n",
        "\n",
        "# Count how many were pos, neg and neu\n",
        "dictWN = countValues(postsInfo)\n",
        "print(dictWN)"
      ],
      "metadata": {
        "colab": {
          "base_uri": "https://localhost:8080/"
        },
        "id": "wy_Niv1kb3iO",
        "outputId": "6cd980f0-ee41-4901-af24-eaa8f67bf380"
      },
      "execution_count": 13,
      "outputs": [
        {
          "output_type": "stream",
          "name": "stdout",
          "text": [
            "{'positive': 138, 'negative': 262, 'neutral': 100}\n"
          ]
        }
      ]
    },
    {
      "cell_type": "markdown",
      "source": [
        "In the World News subreddit we saw 138 positive posts, 262 negative posts and 100 neutral. "
      ],
      "metadata": {
        "id": "O4rLzx52feBq"
      }
    },
    {
      "cell_type": "markdown",
      "source": [
        "In this subreddit 27.6% of the posts were positive, 52.4% were negative and 20% were neutral. "
      ],
      "metadata": {
        "id": "wb7_BJsZMxVu"
      }
    },
    {
      "cell_type": "markdown",
      "source": [
        "This data is ploted in a bar graph. "
      ],
      "metadata": {
        "id": "svPGHgA1fkx8"
      }
    },
    {
      "cell_type": "code",
      "source": [
        "barplot(dictWN, \"Sentimental Analysis of Posts in World News Subreddit\")"
      ],
      "metadata": {
        "colab": {
          "base_uri": "https://localhost:8080/",
          "height": 295
        },
        "id": "DTg1s9i9cEha",
        "outputId": "b1175d3d-97df-47ac-befb-4af38d16f66d"
      },
      "execution_count": 14,
      "outputs": [
        {
          "output_type": "display_data",
          "data": {
            "image/png": "[encoded data removed]",
            "text/plain": [
              "<Figure size 432x288 with 1 Axes>"
            ]
          },
          "metadata": {
            "needs_background": "light"
          }
        }
      ]
    },
    {
      "cell_type": "markdown",
      "source": [
        "Now we took all these results and plot them in a single graph to compare. "
      ],
      "metadata": {
        "id": "6gePK_QcftAx"
      }
    },
    {
      "cell_type": "markdown",
      "source": [
        "Below we can compare each subreddit with each other. The Democrats are more neutral. The Politics and World News subreddit has more negative posts.  "
      ],
      "metadata": {
        "id": "HfYJapkfU0dK"
      }
    },
    {
      "cell_type": "code",
      "source": [
        "# Creates the barplot values with each subreddit\n",
        "plotdata = pd.DataFrame({\n",
        "    \"Democrats\":dictDems.values(),\n",
        "    \"Conservative\":dictCon.values(),\n",
        "    \"Liberterian\":dictLib.values(),\n",
        "    \"World News\":dictWN.values(),\n",
        "    \"Politics\":dictPol.values()\n",
        "    }, \n",
        "    index=[\"positive\", \"negative\", \"neutral\"]\n",
        ")\n",
        "\n",
        "# Plots data\n",
        "plotdata.plot(kind=\"bar\")\n",
        "# Adds title\n",
        "plt.title(\"Sentimental Analysis Between Subreddits\")\n",
        "# Add xlabel\n",
        "plt.xlabel(\"Sentiment\")\n",
        "# Add ylabel\n",
        "plt.ylabel(\"Number of words\")"
      ],
      "metadata": {
        "colab": {
          "base_uri": "https://localhost:8080/",
          "height": 346
        },
        "id": "cXdzb02zl1xy",
        "outputId": "aa854fb3-e806-4a27-d60c-c7f406759902"
      },
      "execution_count": 15,
      "outputs": [
        {
          "output_type": "execute_result",
          "data": {
            "text/plain": [
              "Text(0, 0.5, 'Number of words')"
            ]
          },
          "metadata": {},
          "execution_count": 15
        },
        {
          "output_type": "display_data",
          "data": {
            "image/png": "[encoded data removed]",
            "text/plain": [
              "<Figure size 432x288 with 1 Axes>"
            ]
          },
          "metadata": {
            "needs_background": "light"
          }
        }
      ]
    },
    {
      "cell_type": "markdown",
      "source": [
        "The Politics and World News subreddits are the most negative of the 5 studied. "
      ],
      "metadata": {
        "id": "H9ccGdJtf6Ej"
      }
    },
    {
      "cell_type": "markdown",
      "source": [
        "This function is used to graph a correlation graph to see if the variables are related or have a correlation. "
      ],
      "metadata": {
        "id": "OH8LnLTUgCYf"
      }
    },
    {
      "cell_type": "code",
      "source": [
        "# generate related variables\n",
        "from numpy import mean\n",
        "from numpy import std\n",
        "from matplotlib import pyplot\n",
        "\n",
        "# Correlation graph function\n",
        "def correlationGraph(data1,data2, title):\n",
        "    # summarize\n",
        "    # print('data1: mean=%.3f stdv=%.3f' % (mean(data1), std(data1)))\n",
        "    # print('data2: mean=%.3f stdv=%.3f' % (mean(data2), std(data2)))\n",
        "    # plot data\n",
        "    pyplot.scatter(data1, data2)\n",
        "    # Add title\n",
        "    pyplot.title(title)\n",
        "    # Add xaxis\n",
        "    pyplot.xlabel(\"positive\")\n",
        "    # Add yaxis\n",
        "    pyplot.ylabel(\"negative\")\n",
        "    # Show graph\n",
        "    pyplot.show()\n"
      ],
      "metadata": {
        "id": "rxiWDkl0JjpG"
      },
      "execution_count": 16,
      "outputs": []
    },
    {
      "cell_type": "markdown",
      "source": [
        "This function graphs the words most used for the subreddits"
      ],
      "metadata": {
        "id": "AvsKwKA6gV8n"
      }
    },
    {
      "cell_type": "code",
      "source": [
        "# Function to graph the frequency of words between subreddits\n",
        "def graphTopWords(d, title):\n",
        "  # Creates list for x axis\n",
        "  X = list(d.iloc[:, 0])\n",
        "  # Creates list for y axis\n",
        "  Y = list(d.iloc[:, 1])\n",
        "\n",
        "  # Plots the first 5 most popular words\n",
        "  plt.bar(X[0:5], Y[0:5], color='blue')\n",
        "  # Adds title\n",
        "  plt.title(title)\n",
        "  # Adds xlabel\n",
        "  plt.xlabel(\"Words\")\n",
        "  # Adds ylabel\n",
        "  plt.ylabel(\"Number of words\")"
      ],
      "metadata": {
        "id": "KsMlMUz2k6_6"
      },
      "execution_count": 17,
      "outputs": []
    },
    {
      "cell_type": "markdown",
      "source": [
        "Here we graphed the frequent positive used words in the Politics Subreddit. We recolected this data from the program from GitHub we created to analyze posts and save the data in a csv file."
      ],
      "metadata": {
        "id": "LDl9gFDwgb3_"
      }
    },
    {
      "cell_type": "code",
      "source": [
        "import pandas as pd\n",
        "\n",
        "# Read the positive frequent words from the politics subreddit\n",
        "v = pd.read_csv(\"politicsFreq.csv\")\n",
        "d = pd.DataFrame(v)\n",
        "\n",
        "# Order the list in descending order\n",
        "d.sort_values([\"total\"], axis = 0, ascending = [False], inplace = True)\n",
        "\n",
        "graphTopWords(d, \"Top Positive Words in Politics Subreddit\")  "
      ],
      "metadata": {
        "colab": {
          "base_uri": "https://localhost:8080/",
          "height": 295
        },
        "id": "GUFVXtbMdISJ",
        "outputId": "ee32aca8-576b-4116-b072-2465c21ab374"
      },
      "execution_count": 18,
      "outputs": [
        {
          "output_type": "display_data",
          "data": {
            "image/png": "[encoded data removed]",
            "text/plain": [
              "<Figure size 432x288 with 1 Axes>"
            ]
          },
          "metadata": {
            "needs_background": "light"
          }
        }
      ]
    },
    {
      "cell_type": "markdown",
      "source": [
        "Now we did the same thing in the Politics Subreddit but with the frequent negative words. "
      ],
      "metadata": {
        "id": "oK3gZhbMgizt"
      }
    },
    {
      "cell_type": "code",
      "source": [
        "import pandas as pd\n",
        "\n",
        "# Read the negative frequent words from the politics subreddit\n",
        "vi = pd.read_csv(\"politicsFreqNegative.csv\")\n",
        "di = pd.DataFrame(vi)\n",
        "\n",
        "# Order the list in descending order\n",
        "di.sort_values([\"total\"], axis = 0, ascending = [False], inplace = True)\n",
        "\n",
        "# Call graph function to show bar plot\n",
        "graphTopWords(di, \"Top Negative Words in Politics Subreddit\")  "
      ],
      "metadata": {
        "colab": {
          "base_uri": "https://localhost:8080/",
          "height": 295
        },
        "id": "s8ujHRPDARj6",
        "outputId": "54a6066d-5a8c-46a7-d8ea-be6efe6bb991"
      },
      "execution_count": 19,
      "outputs": [
        {
          "output_type": "display_data",
          "data": {
            "image/png": "[encoded data removed]",
            "text/plain": [
              "<Figure size 432x288 with 1 Axes>"
            ]
          },
          "metadata": {
            "needs_background": "light"
          }
        }
      ]
    },
    {
      "cell_type": "markdown",
      "source": [
        "We analyzed the positive frequent words in the Word News subreddit. "
      ],
      "metadata": {
        "id": "TvKVe1a_jjdW"
      }
    },
    {
      "cell_type": "code",
      "source": [
        "import pandas as pd\n",
        "\n",
        "# Read the negative frequent words from the subreddit\n",
        "vi = pd.read_csv(\"WNFreqPositive.csv\")\n",
        "di = pd.DataFrame(vi)\n",
        "\n",
        "# Order the list in descending order\n",
        "di.sort_values([\"total\"], axis = 0, ascending = [False], inplace = True)\n",
        "\n",
        "# Call graph function to show bar plot\n",
        "graphTopWords(di, \"Top Positive Words in World News Subreddit\") "
      ],
      "metadata": {
        "colab": {
          "base_uri": "https://localhost:8080/",
          "height": 295
        },
        "id": "Jot8JIhJblUp",
        "outputId": "99f026f6-bcfc-4154-ebf7-7132b1f1e5b0"
      },
      "execution_count": 20,
      "outputs": [
        {
          "output_type": "display_data",
          "data": {
            "image/png": "[encoded data removed]",
            "text/plain": [
              "<Figure size 432x288 with 1 Axes>"
            ]
          },
          "metadata": {
            "needs_background": "light"
          }
        }
      ]
    },
    {
      "cell_type": "markdown",
      "source": [
        "Also we analyzed the negative frequent words in the Word News subreddit. "
      ],
      "metadata": {
        "id": "jHkhSC-bjry_"
      }
    },
    {
      "cell_type": "code",
      "source": [
        "import pandas as pd\n",
        "\n",
        "# Read the negative frequent words from the subreddit\n",
        "vi = pd.read_csv(\"WNFreqNegative.csv\")\n",
        "di = pd.DataFrame(vi)\n",
        "\n",
        "# Order the list in descending order\n",
        "di.sort_values([\"total\"], axis = 0, ascending = [False], inplace = True)\n",
        "\n",
        "# Call graph function to show bar plot\n",
        "graphTopWords(di, \"Top Negative Words in World News Subreddit\") "
      ],
      "metadata": {
        "colab": {
          "base_uri": "https://localhost:8080/",
          "height": 295
        },
        "id": "LK4AHqp7boIO",
        "outputId": "46c7b7c8-b751-4cd3-b82d-f6951f55661d"
      },
      "execution_count": 21,
      "outputs": [
        {
          "output_type": "display_data",
          "data": {
            "image/png": "[encoded data removed]",
            "text/plain": [
              "<Figure size 432x288 with 1 Axes>"
            ]
          },
          "metadata": {
            "needs_background": "light"
          }
        }
      ]
    },
    {
      "cell_type": "markdown",
      "source": [
        "We analyzed the positive frequent words in the Democrats subreddit. "
      ],
      "metadata": {
        "id": "T3B7B3CQj0Ii"
      }
    },
    {
      "cell_type": "code",
      "source": [
        "import pandas as pd\n",
        "\n",
        "# Read the negative frequent words from the subreddit\n",
        "vi = pd.read_csv(\"demFreqPositive.csv\")\n",
        "di = pd.DataFrame(vi)\n",
        "\n",
        "# Order the list in descending order\n",
        "di.sort_values([\"total\"], axis = 0, ascending = [False], inplace = True)\n",
        "\n",
        "# Call graph function to show bar plot\n",
        "graphTopWords(di, \"Top Positive Words in Democrats Subreddit\") "
      ],
      "metadata": {
        "colab": {
          "base_uri": "https://localhost:8080/",
          "height": 295
        },
        "id": "bt98-sh9bXr0",
        "outputId": "b4b7064f-ef4a-4181-fb33-43b66fe8c88e"
      },
      "execution_count": 22,
      "outputs": [
        {
          "output_type": "display_data",
          "data": {
            "image/png": "[encoded data removed]",
            "text/plain": [
              "<Figure size 432x288 with 1 Axes>"
            ]
          },
          "metadata": {
            "needs_background": "light"
          }
        }
      ]
    },
    {
      "cell_type": "markdown",
      "source": [
        "We analyzed the negative frequent words in the Democrats subreddit. "
      ],
      "metadata": {
        "id": "EKR7o7kuj7l_"
      }
    },
    {
      "cell_type": "code",
      "source": [
        "import pandas as pd\n",
        "\n",
        "# Read the negative frequent words from the subreddit\n",
        "vi = pd.read_csv(\"demFreqNegative.csv\")\n",
        "di = pd.DataFrame(vi)\n",
        "\n",
        "# Order the list in descending order\n",
        "di.sort_values([\"total\"], axis = 0, ascending = [False], inplace = True)\n",
        "\n",
        "# Call graph function to show bar plot\n",
        "graphTopWords(di, \"Top Negative Words in Democrats Subreddit\") "
      ],
      "metadata": {
        "colab": {
          "base_uri": "https://localhost:8080/",
          "height": 295
        },
        "id": "Jfua-7YhbS0X",
        "outputId": "55d3deee-5d45-4720-9010-f34cc78cb791"
      },
      "execution_count": 23,
      "outputs": [
        {
          "output_type": "display_data",
          "data": {
            "image/png": "[encoded data removed]",
            "text/plain": [
              "<Figure size 432x288 with 1 Axes>"
            ]
          },
          "metadata": {
            "needs_background": "light"
          }
        }
      ]
    },
    {
      "cell_type": "markdown",
      "source": [
        "We analyzed the positive frequent words in the Conservative subreddit. "
      ],
      "metadata": {
        "id": "LfBto25kj-kL"
      }
    },
    {
      "cell_type": "code",
      "source": [
        "import pandas as pd\n",
        "\n",
        "# Read the negative frequent words from the subreddit\n",
        "vi = pd.read_csv(\"conFreqPositive.csv\")\n",
        "di = pd.DataFrame(vi)\n",
        "\n",
        "# Order the list in descending order\n",
        "di.sort_values([\"total\"], axis = 0, ascending = [False], inplace = True)\n",
        "\n",
        "# Call graph function to show bar plot\n",
        "graphTopWords(di, \"Top Positive Words in Conservative Subreddit\") "
      ],
      "metadata": {
        "colab": {
          "base_uri": "https://localhost:8080/",
          "height": 295
        },
        "id": "Bacn3_HRbIfl",
        "outputId": "0118b62a-2316-4517-8325-f52d8867231f"
      },
      "execution_count": 24,
      "outputs": [
        {
          "output_type": "display_data",
          "data": {
            "image/png": "[encoded data removed]",
            "text/plain": [
              "<Figure size 432x288 with 1 Axes>"
            ]
          },
          "metadata": {
            "needs_background": "light"
          }
        }
      ]
    },
    {
      "cell_type": "markdown",
      "source": [
        "We analyzed the negative frequent words in the Conservative subreddit. "
      ],
      "metadata": {
        "id": "Xyrrj7zkkB7h"
      }
    },
    {
      "cell_type": "code",
      "source": [
        "import pandas as pd\n",
        "\n",
        "# Read the negative frequent words from the subreddit\n",
        "vi = pd.read_csv(\"conFreqNegative.csv\")\n",
        "di = pd.DataFrame(vi)\n",
        "\n",
        "# Order the list in descending order\n",
        "di.sort_values([\"total\"], axis = 0, ascending = [False], inplace = True)\n",
        "\n",
        "# Call graph function to show bar plot\n",
        "graphTopWords(di, \"Top Negative Words in Conservative Subreddit\") "
      ],
      "metadata": {
        "colab": {
          "base_uri": "https://localhost:8080/",
          "height": 295
        },
        "id": "gtdVtdenbC1n",
        "outputId": "cb344554-de97-43e3-c67f-fe85ff30615b"
      },
      "execution_count": 25,
      "outputs": [
        {
          "output_type": "display_data",
          "data": {
            "image/png": "[encoded data removed]",
            "text/plain": [
              "<Figure size 432x288 with 1 Axes>"
            ]
          },
          "metadata": {
            "needs_background": "light"
          }
        }
      ]
    },
    {
      "cell_type": "markdown",
      "source": [
        "Now we plotted the words positively and negatively used in the Politics subreddit. We recolected this data from the created app on Github and uploaded this files here to analyze. First we loaded each data and used the previously created function to graph them. "
      ],
      "metadata": {
        "id": "dkKiBz6BkGoB"
      }
    },
    {
      "cell_type": "code",
      "source": [
        "from numpy import mean\n",
        "from numpy import std\n",
        "from matplotlib import pyplot\n",
        "\n",
        "# Read data\n",
        "data1 = pd.read_csv(\"positiveRepeatedPolitics.csv\")\n",
        "d1 = pd.DataFrame(data1)\n",
        "\n",
        "# Read data\n",
        "data2 = pd.read_csv(\"negativeRepeatedPolitics.csv\")\n",
        "d2 = pd.DataFrame(data2)\n",
        "\n",
        "# Plot graph using previous function\n",
        "correlationGraph(d1['total'],d2['total'], \"Positives and negative words in Politics Subreddit\")"
      ],
      "metadata": {
        "colab": {
          "base_uri": "https://localhost:8080/",
          "height": 295
        },
        "id": "QUerK6v1Bj3U",
        "outputId": "be103a97-e1be-4fff-ad37-e046767d3446"
      },
      "execution_count": 26,
      "outputs": [
        {
          "output_type": "display_data",
          "data": {
            "image/png": "[encoded data removed]",
            "text/plain": [
              "<Figure size 432x288 with 1 Axes>"
            ]
          },
          "metadata": {
            "needs_background": "light"
          }
        }
      ]
    },
    {
      "cell_type": "markdown",
      "source": [
        "Now we plotted the words positively and negatively used in the Democrats subreddit."
      ],
      "metadata": {
        "id": "9KzNBYWJkWZu"
      }
    },
    {
      "cell_type": "code",
      "source": [
        "# Read data\n",
        "data1 = pd.read_csv(\"positiveRepeatedDems.csv\")\n",
        "d1 = pd.DataFrame(data1)\n",
        "\n",
        "# Read data\n",
        "data2 = pd.read_csv(\"negativeRepeatedDems.csv\")\n",
        "d2 = pd.DataFrame(data2)\n",
        "\n",
        "# Graph data\n",
        "correlationGraph(d1['total'],d2['total'], \"Positives and negative words in Democrats Subreddit\")"
      ],
      "metadata": {
        "colab": {
          "base_uri": "https://localhost:8080/",
          "height": 295
        },
        "id": "lLW2WbL5XxJN",
        "outputId": "5cfb066a-f697-4436-8767-dda417eab4d7"
      },
      "execution_count": 27,
      "outputs": [
        {
          "output_type": "display_data",
          "data": {
            "image/png": "[encoded data removed]",
            "text/plain": [
              "<Figure size 432x288 with 1 Axes>"
            ]
          },
          "metadata": {
            "needs_background": "light"
          }
        }
      ]
    },
    {
      "cell_type": "markdown",
      "source": [
        "Now we plotted the words positively and negatively used in the Conservative subreddit."
      ],
      "metadata": {
        "id": "8NBR-narkZV5"
      }
    },
    {
      "cell_type": "code",
      "source": [
        "# Read data\n",
        "data1 = pd.read_csv(\"positiveRepeatedCon.csv\")\n",
        "d1 = pd.DataFrame(data1)\n",
        "\n",
        "# Read data\n",
        "data2 = pd.read_csv(\"negativeRepeatedCon.csv\")\n",
        "d2 = pd.DataFrame(data2)\n",
        "\n",
        "# Graph data\n",
        "correlationGraph(d1['total'],d2['total'], \"Positives and negative words in Conservative Subreddit\")"
      ],
      "metadata": {
        "colab": {
          "base_uri": "https://localhost:8080/",
          "height": 295
        },
        "id": "ntMXn0xUYE_l",
        "outputId": "5febe369-e4b0-40e5-d288-4ab9fbd19cd3"
      },
      "execution_count": 28,
      "outputs": [
        {
          "output_type": "display_data",
          "data": {
            "image/png": "[encoded data removed]",
            "text/plain": [
              "<Figure size 432x288 with 1 Axes>"
            ]
          },
          "metadata": {
            "needs_background": "light"
          }
        }
      ]
    },
    {
      "cell_type": "markdown",
      "source": [
        "Now we plotted the words positively and negatively used in the World News subreddit."
      ],
      "metadata": {
        "id": "tOsxHypAkb2G"
      }
    },
    {
      "cell_type": "code",
      "source": [
        "# Read data\n",
        "data1 = pd.read_csv(\"positiveRepeatedWN.csv\")\n",
        "d1 = pd.DataFrame(data1)\n",
        "\n",
        "# Read data\n",
        "data2 = pd.read_csv(\"negativeRepeatedWN.csv\")\n",
        "d2 = pd.DataFrame(data2)\n",
        "\n",
        "# Graph frequency with previously created function\n",
        "correlationGraph(d1['total'],d2['total'], \"Positives and negative words in World News Subreddit\")"
      ],
      "metadata": {
        "colab": {
          "base_uri": "https://localhost:8080/",
          "height": 295
        },
        "id": "jYalp38KYwuC",
        "outputId": "923cd8c9-15b0-4412-f23e-9cba8f8c8c32"
      },
      "execution_count": 29,
      "outputs": [
        {
          "output_type": "display_data",
          "data": {
            "image/png": "[encoded data removed]",
            "text/plain": [
              "<Figure size 432x288 with 1 Axes>"
            ]
          },
          "metadata": {
            "needs_background": "light"
          }
        }
      ]
    },
    {
      "cell_type": "markdown",
      "source": [
        "**Conclusion:**\n",
        "Based on the analysis done we have seen how in many political or news subreddit there are more negative posts in them. It is important to provide people with tools to be able to monitor this subreddits in case they are too negative or biased. The World News and Politics subreddits were the most negatives. These subreddits are used for global news so its not very surpirsing on why they could be mostly negative. On the corraltion graph there was not many correlation on the frequent used words in negative and positive. In both subreddits the negative word frequently used are of politicians names. In Politics subreddit Twitter was looked negatively. While in World News some countries were seen negatively. Based on the scatterplot theres appear to be no correlation between the positive and negative words of each subreddit. In order to be correlation the plots had to be in a line. In each scatterplot there are outliers away from the tipical plot of the words. "
      ],
      "metadata": {
        "id": "fDGLvoNVKl6d"
      }
    },
    {
      "cell_type": "markdown",
      "source": [
        "We see how both the Politics and World News subreddits were mostly negative. The most neutral subreddit was Democrats and the most positive was Libertarian. This analysis shows that the subreddits that are least politically affiliated, the general subreddits, like Politics and World News were the most negative. This could be explained because these subreddits are most accessible online and are not restricted to certain parties of different countries. It also tells us how we have to be careful in those subreddits because of how negative they are. \n"
      ],
      "metadata": {
        "id": "LuXJcQfXNM8k"
      }
    }
  ]
}